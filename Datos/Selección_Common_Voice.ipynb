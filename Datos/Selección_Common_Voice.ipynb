{
  "nbformat": 4,
  "nbformat_minor": 0,
  "metadata": {
    "colab": {
      "name": "Selección Common Voice.ipynb",
      "provenance": [],
      "collapsed_sections": [],
      "toc_visible": true,
      "authorship_tag": "ABX9TyMq6DPlYlO0bIxFa4/9FsYr",
      "include_colab_link": true
    },
    "kernelspec": {
      "name": "python3",
      "display_name": "Python 3"
    }
  },
  "cells": [
    {
      "cell_type": "markdown",
      "metadata": {
        "id": "view-in-github",
        "colab_type": "text"
      },
      "source": [
        "<a href=\"https://colab.research.google.com/github/nestorsgarzonc/LISI_VocalesCNN/blob/master/Datos/Selecci%C3%B3n_Common_Voice.ipynb\" target=\"_parent\"><img src=\"https://colab.research.google.com/assets/colab-badge.svg\" alt=\"Open In Colab\"/></a>"
      ]
    },
    {
      "cell_type": "markdown",
      "metadata": {
        "id": "vSdB-Fa6_Bli",
        "colab_type": "text"
      },
      "source": [
        "# Librerías"
      ]
    },
    {
      "cell_type": "code",
      "metadata": {
        "id": "K70FvEq6UbZf",
        "colab_type": "code",
        "colab": {}
      },
      "source": [
        "import pandas as pd\n",
        "import numpy as np"
      ],
      "execution_count": null,
      "outputs": []
    },
    {
      "cell_type": "markdown",
      "metadata": {
        "id": "NYsr-ZJ42l7I",
        "colab_type": "text"
      },
      "source": [
        "##Lectura de datos"
      ]
    },
    {
      "cell_type": "code",
      "metadata": {
        "id": "HR5H8_70VZ-6",
        "colab_type": "code",
        "colab": {}
      },
      "source": [
        "df = pd.read_csv('dev.tsv',sep='\\t',header=0)\n",
        "dfPre = df.drop(['client_id'], axis=1)"
      ],
      "execution_count": null,
      "outputs": []
    },
    {
      "cell_type": "code",
      "metadata": {
        "id": "Tf0GNxJz00FV",
        "colab_type": "code",
        "colab": {}
      },
      "source": [
        "def ContadorVocalA(cadena):\n",
        "  ocurrencias1 = cadena.count('a')\n",
        "  ocurrencias2 = cadena.count('á')\n",
        "  ocurrencias3 = cadena.count('A')\n",
        "  ocurrencias4 = cadena.count('Á')\n",
        "  return int(ocurrencias1 + ocurrencias2 + ocurrencias3 + ocurrencias4)\n",
        "\n",
        "def ContadorVocalE(cadena):\n",
        "  ocurrencias1 = cadena.count('e')\n",
        "  ocurrencias2 = cadena.count('é')\n",
        "  ocurrencias3 = cadena.count('E')\n",
        "  ocurrencias4 = cadena.count('É')\n",
        "  return int(ocurrencias1 + ocurrencias2 + ocurrencias3 + ocurrencias4)\n",
        "\n",
        "def ContadorVocalI(cadena):\n",
        "  ocurrencias1 = cadena.count('i')\n",
        "  ocurrencias2 = cadena.count('í')\n",
        "  ocurrencias3 = cadena.count('I')\n",
        "  ocurrencias4 = cadena.count('Í')\n",
        "  return int(ocurrencias1 + ocurrencias2 + ocurrencias3 + ocurrencias4)\n",
        "\n",
        "def ContadorVocalO(cadena):\n",
        "  ocurrencias1 = cadena.count('o')\n",
        "  ocurrencias2 = cadena.count('ó')\n",
        "  ocurrencias3 = cadena.count('O')\n",
        "  ocurrencias4 = cadena.count('Ó')\n",
        "  return int(ocurrencias1 + ocurrencias2 + ocurrencias3 + ocurrencias4)\n",
        "\n",
        "def ContadorVocalU(cadena):\n",
        "  ocurrencias1 = cadena.count('u')\n",
        "  ocurrencias2 = cadena.count('ú')\n",
        "  ocurrencias3 = cadena.count('U')\n",
        "  ocurrencias4 = cadena.count('Ú')\n",
        "  return int(ocurrencias1 + ocurrencias2 + ocurrencias3 + ocurrencias4)"
      ],
      "execution_count": null,
      "outputs": []
    },
    {
      "cell_type": "markdown",
      "metadata": {
        "id": "7CC38ezq_Jdy",
        "colab_type": "text"
      },
      "source": [
        "#Preprocesamiento"
      ]
    },
    {
      "cell_type": "code",
      "metadata": {
        "id": "uZwQM2mpaLPX",
        "colab_type": "code",
        "colab": {
          "base_uri": "https://localhost:8080/",
          "height": 419
        },
        "outputId": "449279d0-a51e-4c4e-b5b8-c7a6359f5642"
      },
      "source": [
        "dfPre#.head()"
      ],
      "execution_count": null,
      "outputs": [
        {
          "output_type": "execute_result",
          "data": {
            "text/html": [
              "<div>\n",
              "<style scoped>\n",
              "    .dataframe tbody tr th:only-of-type {\n",
              "        vertical-align: middle;\n",
              "    }\n",
              "\n",
              "    .dataframe tbody tr th {\n",
              "        vertical-align: top;\n",
              "    }\n",
              "\n",
              "    .dataframe thead th {\n",
              "        text-align: right;\n",
              "    }\n",
              "</style>\n",
              "<table border=\"1\" class=\"dataframe\">\n",
              "  <thead>\n",
              "    <tr style=\"text-align: right;\">\n",
              "      <th></th>\n",
              "      <th>path</th>\n",
              "      <th>sentence</th>\n",
              "      <th>up_votes</th>\n",
              "      <th>down_votes</th>\n",
              "      <th>age</th>\n",
              "      <th>gender</th>\n",
              "      <th>accent</th>\n",
              "    </tr>\n",
              "  </thead>\n",
              "  <tbody>\n",
              "    <tr>\n",
              "      <th>0</th>\n",
              "      <td>common_voice_es_19746113.mp3</td>\n",
              "      <td>Su auge se dio con el cambio de siglo.</td>\n",
              "      <td>2</td>\n",
              "      <td>0</td>\n",
              "      <td>NaN</td>\n",
              "      <td>NaN</td>\n",
              "      <td>NaN</td>\n",
              "    </tr>\n",
              "    <tr>\n",
              "      <th>1</th>\n",
              "      <td>common_voice_es_19746114.mp3</td>\n",
              "      <td>Es originario del oeste de África tropical y d...</td>\n",
              "      <td>2</td>\n",
              "      <td>1</td>\n",
              "      <td>NaN</td>\n",
              "      <td>NaN</td>\n",
              "      <td>NaN</td>\n",
              "    </tr>\n",
              "    <tr>\n",
              "      <th>2</th>\n",
              "      <td>common_voice_es_19746115.mp3</td>\n",
              "      <td>Actualmente milita en el club Oriente Petroler...</td>\n",
              "      <td>2</td>\n",
              "      <td>0</td>\n",
              "      <td>NaN</td>\n",
              "      <td>NaN</td>\n",
              "      <td>NaN</td>\n",
              "    </tr>\n",
              "    <tr>\n",
              "      <th>3</th>\n",
              "      <td>common_voice_es_19746116.mp3</td>\n",
              "      <td>La voz es de gran belleza y amplia.</td>\n",
              "      <td>2</td>\n",
              "      <td>0</td>\n",
              "      <td>NaN</td>\n",
              "      <td>NaN</td>\n",
              "      <td>NaN</td>\n",
              "    </tr>\n",
              "    <tr>\n",
              "      <th>4</th>\n",
              "      <td>common_voice_es_19746117.mp3</td>\n",
              "      <td>Tiene notables colecciones arqueológicas y etn...</td>\n",
              "      <td>2</td>\n",
              "      <td>0</td>\n",
              "      <td>NaN</td>\n",
              "      <td>NaN</td>\n",
              "      <td>NaN</td>\n",
              "    </tr>\n",
              "    <tr>\n",
              "      <th>...</th>\n",
              "      <td>...</td>\n",
              "      <td>...</td>\n",
              "      <td>...</td>\n",
              "      <td>...</td>\n",
              "      <td>...</td>\n",
              "      <td>...</td>\n",
              "      <td>...</td>\n",
              "    </tr>\n",
              "    <tr>\n",
              "      <th>13216</th>\n",
              "      <td>common_voice_es_18310103.mp3</td>\n",
              "      <td>\" la Dalila \" continuaba anclada bajo el Casti...</td>\n",
              "      <td>3</td>\n",
              "      <td>0</td>\n",
              "      <td>NaN</td>\n",
              "      <td>NaN</td>\n",
              "      <td>NaN</td>\n",
              "    </tr>\n",
              "    <tr>\n",
              "      <th>13217</th>\n",
              "      <td>common_voice_es_18310105.mp3</td>\n",
              "      <td>A caballo regalado no le mires el dentado.</td>\n",
              "      <td>3</td>\n",
              "      <td>0</td>\n",
              "      <td>NaN</td>\n",
              "      <td>NaN</td>\n",
              "      <td>NaN</td>\n",
              "    </tr>\n",
              "    <tr>\n",
              "      <th>13218</th>\n",
              "      <td>common_voice_es_18310110.mp3</td>\n",
              "      <td>A Dios rogando y con el mazo dando.</td>\n",
              "      <td>3</td>\n",
              "      <td>0</td>\n",
              "      <td>NaN</td>\n",
              "      <td>NaN</td>\n",
              "      <td>NaN</td>\n",
              "    </tr>\n",
              "    <tr>\n",
              "      <th>13219</th>\n",
              "      <td>common_voice_es_18310112.mp3</td>\n",
              "      <td>A mala cama, colchón de vino.</td>\n",
              "      <td>3</td>\n",
              "      <td>0</td>\n",
              "      <td>NaN</td>\n",
              "      <td>NaN</td>\n",
              "      <td>NaN</td>\n",
              "    </tr>\n",
              "    <tr>\n",
              "      <th>13220</th>\n",
              "      <td>common_voice_es_18370974.mp3</td>\n",
              "      <td>El kilómetro cero está en Sol.</td>\n",
              "      <td>2</td>\n",
              "      <td>1</td>\n",
              "      <td>thirties</td>\n",
              "      <td>male</td>\n",
              "      <td>centrosurpeninsular</td>\n",
              "    </tr>\n",
              "  </tbody>\n",
              "</table>\n",
              "<p>13221 rows × 7 columns</p>\n",
              "</div>"
            ],
            "text/plain": [
              "                               path  ...               accent\n",
              "0      common_voice_es_19746113.mp3  ...                  NaN\n",
              "1      common_voice_es_19746114.mp3  ...                  NaN\n",
              "2      common_voice_es_19746115.mp3  ...                  NaN\n",
              "3      common_voice_es_19746116.mp3  ...                  NaN\n",
              "4      common_voice_es_19746117.mp3  ...                  NaN\n",
              "...                             ...  ...                  ...\n",
              "13216  common_voice_es_18310103.mp3  ...                  NaN\n",
              "13217  common_voice_es_18310105.mp3  ...                  NaN\n",
              "13218  common_voice_es_18310110.mp3  ...                  NaN\n",
              "13219  common_voice_es_18310112.mp3  ...                  NaN\n",
              "13220  common_voice_es_18370974.mp3  ...  centrosurpeninsular\n",
              "\n",
              "[13221 rows x 7 columns]"
            ]
          },
          "metadata": {
            "tags": []
          },
          "execution_count": 4
        }
      ]
    },
    {
      "cell_type": "code",
      "metadata": {
        "id": "F9cDgfS9gJDL",
        "colab_type": "code",
        "colab": {
          "base_uri": "https://localhost:8080/",
          "height": 85
        },
        "outputId": "e7442dae-b885-4027-91a8-e5e455fd403f"
      },
      "source": [
        "#Resumen: repeticiones de distintos valores presentes en la columna 'up_votes'\n",
        "dfPre['up_votes'].value_counts(dropna=False)"
      ],
      "execution_count": null,
      "outputs": [
        {
          "output_type": "execute_result",
          "data": {
            "text/plain": [
              "2    12654\n",
              "3      544\n",
              "4       23\n",
              "Name: up_votes, dtype: int64"
            ]
          },
          "metadata": {
            "tags": []
          },
          "execution_count": 5
        }
      ]
    },
    {
      "cell_type": "code",
      "metadata": {
        "id": "8vJ-BTfCyna0",
        "colab_type": "code",
        "colab": {
          "base_uri": "https://localhost:8080/",
          "height": 221
        },
        "outputId": "3e7dd996-0ab3-49e0-c8bd-772ab033afe8"
      },
      "source": [
        "dfPre['accent'].value_counts(dropna=False)"
      ],
      "execution_count": null,
      "outputs": [
        {
          "output_type": "execute_result",
          "data": {
            "text/plain": [
              "NaN                    10608\n",
              "mexicano                 704\n",
              "andino                   417\n",
              "rioplatense              321\n",
              "nortepeninsular          228\n",
              "americacentral           215\n",
              "centrosurpeninsular      201\n",
              "chileno                  196\n",
              "caribe                   192\n",
              "surpeninsular            112\n",
              "canario                   27\n",
              "Name: accent, dtype: int64"
            ]
          },
          "metadata": {
            "tags": []
          },
          "execution_count": 6
        }
      ]
    },
    {
      "cell_type": "code",
      "metadata": {
        "id": "cQouXlzjvZQb",
        "colab_type": "code",
        "colab": {
          "base_uri": "https://localhost:8080/",
          "height": 204
        },
        "outputId": "4aa9fc60-4643-464c-d63e-749455d46e53"
      },
      "source": [
        "#Filtros: audios sin votos en contra y con mayor votación (3 o 4 votos a favor)\n",
        "dfPreFil = dfPre[(dfPre['down_votes']==0)&(dfPre['up_votes']>=3)]\n",
        "\n",
        "dfPreFil.head()"
      ],
      "execution_count": null,
      "outputs": [
        {
          "output_type": "execute_result",
          "data": {
            "text/html": [
              "<div>\n",
              "<style scoped>\n",
              "    .dataframe tbody tr th:only-of-type {\n",
              "        vertical-align: middle;\n",
              "    }\n",
              "\n",
              "    .dataframe tbody tr th {\n",
              "        vertical-align: top;\n",
              "    }\n",
              "\n",
              "    .dataframe thead th {\n",
              "        text-align: right;\n",
              "    }\n",
              "</style>\n",
              "<table border=\"1\" class=\"dataframe\">\n",
              "  <thead>\n",
              "    <tr style=\"text-align: right;\">\n",
              "      <th></th>\n",
              "      <th>path</th>\n",
              "      <th>sentence</th>\n",
              "      <th>up_votes</th>\n",
              "      <th>down_votes</th>\n",
              "      <th>age</th>\n",
              "      <th>gender</th>\n",
              "      <th>accent</th>\n",
              "    </tr>\n",
              "  </thead>\n",
              "  <tbody>\n",
              "    <tr>\n",
              "      <th>24</th>\n",
              "      <td>common_voice_es_19613838.mp3</td>\n",
              "      <td>Fueron reemplazados por Jeanette Jurado y Gioi...</td>\n",
              "      <td>3</td>\n",
              "      <td>0</td>\n",
              "      <td>NaN</td>\n",
              "      <td>NaN</td>\n",
              "      <td>NaN</td>\n",
              "    </tr>\n",
              "    <tr>\n",
              "      <th>123</th>\n",
              "      <td>common_voice_es_19711369.mp3</td>\n",
              "      <td>Es originaria de Guyana.</td>\n",
              "      <td>3</td>\n",
              "      <td>0</td>\n",
              "      <td>NaN</td>\n",
              "      <td>NaN</td>\n",
              "      <td>NaN</td>\n",
              "    </tr>\n",
              "    <tr>\n",
              "      <th>152</th>\n",
              "      <td>common_voice_es_19637716.mp3</td>\n",
              "      <td>Estuvo casado con Iris Barraza, con quien tuvo...</td>\n",
              "      <td>3</td>\n",
              "      <td>0</td>\n",
              "      <td>NaN</td>\n",
              "      <td>NaN</td>\n",
              "      <td>NaN</td>\n",
              "    </tr>\n",
              "    <tr>\n",
              "      <th>164</th>\n",
              "      <td>common_voice_es_18334123.mp3</td>\n",
              "      <td>vamos , amigo . vamos .</td>\n",
              "      <td>3</td>\n",
              "      <td>0</td>\n",
              "      <td>teens</td>\n",
              "      <td>NaN</td>\n",
              "      <td>NaN</td>\n",
              "    </tr>\n",
              "    <tr>\n",
              "      <th>180</th>\n",
              "      <td>common_voice_es_19745846.mp3</td>\n",
              "      <td>Los miembros tiene un color gris, más obscuro ...</td>\n",
              "      <td>3</td>\n",
              "      <td>0</td>\n",
              "      <td>NaN</td>\n",
              "      <td>NaN</td>\n",
              "      <td>NaN</td>\n",
              "    </tr>\n",
              "  </tbody>\n",
              "</table>\n",
              "</div>"
            ],
            "text/plain": [
              "                             path  ... accent\n",
              "24   common_voice_es_19613838.mp3  ...    NaN\n",
              "123  common_voice_es_19711369.mp3  ...    NaN\n",
              "152  common_voice_es_19637716.mp3  ...    NaN\n",
              "164  common_voice_es_18334123.mp3  ...    NaN\n",
              "180  common_voice_es_19745846.mp3  ...    NaN\n",
              "\n",
              "[5 rows x 7 columns]"
            ]
          },
          "metadata": {
            "tags": []
          },
          "execution_count": 7
        }
      ]
    },
    {
      "cell_type": "code",
      "metadata": {
        "id": "sSBG6Eixy4Sh",
        "colab_type": "code",
        "colab": {
          "base_uri": "https://localhost:8080/",
          "height": 221
        },
        "outputId": "c88f1896-260a-42f0-bf28-92ae278cd1eb"
      },
      "source": [
        "dfPreFil['accent'].value_counts(dropna=False)"
      ],
      "execution_count": null,
      "outputs": [
        {
          "output_type": "execute_result",
          "data": {
            "text/plain": [
              "NaN                    333\n",
              "mexicano                25\n",
              "andino                  10\n",
              "rioplatense              9\n",
              "caribe                   6\n",
              "centrosurpeninsular      5\n",
              "americacentral           4\n",
              "nortepeninsular          4\n",
              "surpeninsular            3\n",
              "chileno                  2\n",
              "canario                  1\n",
              "Name: accent, dtype: int64"
            ]
          },
          "metadata": {
            "tags": []
          },
          "execution_count": 8
        }
      ]
    },
    {
      "cell_type": "markdown",
      "metadata": {
        "id": "XxH2KqBuCyho",
        "colab_type": "text"
      },
      "source": [
        "#Procesamiento"
      ]
    },
    {
      "cell_type": "code",
      "metadata": {
        "id": "A8vPnyNk6wLm",
        "colab_type": "code",
        "colab": {
          "base_uri": "https://localhost:8080/",
          "height": 419
        },
        "outputId": "3a41e120-4589-4be1-af73-c5f5cf7bf233"
      },
      "source": [
        "dfVocales = pd.DataFrame()\n",
        "\n",
        "dfVocales['Audio'] = dfPreFil['path']\n",
        "#dfVocales['Oracion'] = dfPreFil['sentence']\n",
        "\n",
        "dfVocales"
      ],
      "execution_count": null,
      "outputs": [
        {
          "output_type": "execute_result",
          "data": {
            "text/html": [
              "<div>\n",
              "<style scoped>\n",
              "    .dataframe tbody tr th:only-of-type {\n",
              "        vertical-align: middle;\n",
              "    }\n",
              "\n",
              "    .dataframe tbody tr th {\n",
              "        vertical-align: top;\n",
              "    }\n",
              "\n",
              "    .dataframe thead th {\n",
              "        text-align: right;\n",
              "    }\n",
              "</style>\n",
              "<table border=\"1\" class=\"dataframe\">\n",
              "  <thead>\n",
              "    <tr style=\"text-align: right;\">\n",
              "      <th></th>\n",
              "      <th>Audio</th>\n",
              "    </tr>\n",
              "  </thead>\n",
              "  <tbody>\n",
              "    <tr>\n",
              "      <th>24</th>\n",
              "      <td>common_voice_es_19613838.mp3</td>\n",
              "    </tr>\n",
              "    <tr>\n",
              "      <th>123</th>\n",
              "      <td>common_voice_es_19711369.mp3</td>\n",
              "    </tr>\n",
              "    <tr>\n",
              "      <th>152</th>\n",
              "      <td>common_voice_es_19637716.mp3</td>\n",
              "    </tr>\n",
              "    <tr>\n",
              "      <th>164</th>\n",
              "      <td>common_voice_es_18334123.mp3</td>\n",
              "    </tr>\n",
              "    <tr>\n",
              "      <th>180</th>\n",
              "      <td>common_voice_es_19745846.mp3</td>\n",
              "    </tr>\n",
              "    <tr>\n",
              "      <th>...</th>\n",
              "      <td>...</td>\n",
              "    </tr>\n",
              "    <tr>\n",
              "      <th>13148</th>\n",
              "      <td>common_voice_es_19656967.mp3</td>\n",
              "    </tr>\n",
              "    <tr>\n",
              "      <th>13216</th>\n",
              "      <td>common_voice_es_18310103.mp3</td>\n",
              "    </tr>\n",
              "    <tr>\n",
              "      <th>13217</th>\n",
              "      <td>common_voice_es_18310105.mp3</td>\n",
              "    </tr>\n",
              "    <tr>\n",
              "      <th>13218</th>\n",
              "      <td>common_voice_es_18310110.mp3</td>\n",
              "    </tr>\n",
              "    <tr>\n",
              "      <th>13219</th>\n",
              "      <td>common_voice_es_18310112.mp3</td>\n",
              "    </tr>\n",
              "  </tbody>\n",
              "</table>\n",
              "<p>402 rows × 1 columns</p>\n",
              "</div>"
            ],
            "text/plain": [
              "                              Audio\n",
              "24     common_voice_es_19613838.mp3\n",
              "123    common_voice_es_19711369.mp3\n",
              "152    common_voice_es_19637716.mp3\n",
              "164    common_voice_es_18334123.mp3\n",
              "180    common_voice_es_19745846.mp3\n",
              "...                             ...\n",
              "13148  common_voice_es_19656967.mp3\n",
              "13216  common_voice_es_18310103.mp3\n",
              "13217  common_voice_es_18310105.mp3\n",
              "13218  common_voice_es_18310110.mp3\n",
              "13219  common_voice_es_18310112.mp3\n",
              "\n",
              "[402 rows x 1 columns]"
            ]
          },
          "metadata": {
            "tags": []
          },
          "execution_count": 9
        }
      ]
    },
    {
      "cell_type": "code",
      "metadata": {
        "id": "mpdFGS1qzuoF",
        "colab_type": "code",
        "colab": {
          "base_uri": "https://localhost:8080/",
          "height": 419
        },
        "outputId": "5ea88b84-7bb2-42c3-e65d-b398579278f2"
      },
      "source": [
        "dfVocales['I'] = dfPreFil['sentence'].apply(lambda x: ContadorVocalI(x))\n",
        "dfVocales['E'] = dfPreFil['sentence'].apply(lambda x: ContadorVocalE(x))\n",
        "dfVocales['A'] = dfPreFil['sentence'].apply(lambda x: ContadorVocalA(x))\n",
        "dfVocales['O'] = dfPreFil['sentence'].apply(lambda x: ContadorVocalO(x))\n",
        "dfVocales['U'] = dfPreFil['sentence'].apply(lambda x: ContadorVocalU(x))\n",
        "\n",
        "dfVocales"
      ],
      "execution_count": null,
      "outputs": [
        {
          "output_type": "execute_result",
          "data": {
            "text/html": [
              "<div>\n",
              "<style scoped>\n",
              "    .dataframe tbody tr th:only-of-type {\n",
              "        vertical-align: middle;\n",
              "    }\n",
              "\n",
              "    .dataframe tbody tr th {\n",
              "        vertical-align: top;\n",
              "    }\n",
              "\n",
              "    .dataframe thead th {\n",
              "        text-align: right;\n",
              "    }\n",
              "</style>\n",
              "<table border=\"1\" class=\"dataframe\">\n",
              "  <thead>\n",
              "    <tr style=\"text-align: right;\">\n",
              "      <th></th>\n",
              "      <th>Audio</th>\n",
              "      <th>I</th>\n",
              "      <th>E</th>\n",
              "      <th>A</th>\n",
              "      <th>O</th>\n",
              "      <th>U</th>\n",
              "    </tr>\n",
              "  </thead>\n",
              "  <tbody>\n",
              "    <tr>\n",
              "      <th>24</th>\n",
              "      <td>common_voice_es_19613838.mp3</td>\n",
              "      <td>2</td>\n",
              "      <td>6</td>\n",
              "      <td>5</td>\n",
              "      <td>6</td>\n",
              "      <td>3</td>\n",
              "    </tr>\n",
              "    <tr>\n",
              "      <th>123</th>\n",
              "      <td>common_voice_es_19711369.mp3</td>\n",
              "      <td>3</td>\n",
              "      <td>2</td>\n",
              "      <td>4</td>\n",
              "      <td>1</td>\n",
              "      <td>1</td>\n",
              "    </tr>\n",
              "    <tr>\n",
              "      <th>152</th>\n",
              "      <td>common_voice_es_19637716.mp3</td>\n",
              "      <td>4</td>\n",
              "      <td>2</td>\n",
              "      <td>5</td>\n",
              "      <td>7</td>\n",
              "      <td>3</td>\n",
              "    </tr>\n",
              "    <tr>\n",
              "      <th>164</th>\n",
              "      <td>common_voice_es_18334123.mp3</td>\n",
              "      <td>1</td>\n",
              "      <td>0</td>\n",
              "      <td>3</td>\n",
              "      <td>3</td>\n",
              "      <td>0</td>\n",
              "    </tr>\n",
              "    <tr>\n",
              "      <th>180</th>\n",
              "      <td>common_voice_es_19745846.mp3</td>\n",
              "      <td>3</td>\n",
              "      <td>8</td>\n",
              "      <td>1</td>\n",
              "      <td>8</td>\n",
              "      <td>4</td>\n",
              "    </tr>\n",
              "    <tr>\n",
              "      <th>...</th>\n",
              "      <td>...</td>\n",
              "      <td>...</td>\n",
              "      <td>...</td>\n",
              "      <td>...</td>\n",
              "      <td>...</td>\n",
              "      <td>...</td>\n",
              "    </tr>\n",
              "    <tr>\n",
              "      <th>13148</th>\n",
              "      <td>common_voice_es_19656967.mp3</td>\n",
              "      <td>2</td>\n",
              "      <td>5</td>\n",
              "      <td>1</td>\n",
              "      <td>1</td>\n",
              "      <td>4</td>\n",
              "    </tr>\n",
              "    <tr>\n",
              "      <th>13216</th>\n",
              "      <td>common_voice_es_18310103.mp3</td>\n",
              "      <td>3</td>\n",
              "      <td>2</td>\n",
              "      <td>11</td>\n",
              "      <td>3</td>\n",
              "      <td>3</td>\n",
              "    </tr>\n",
              "    <tr>\n",
              "      <th>13217</th>\n",
              "      <td>common_voice_es_18310105.mp3</td>\n",
              "      <td>1</td>\n",
              "      <td>5</td>\n",
              "      <td>6</td>\n",
              "      <td>4</td>\n",
              "      <td>0</td>\n",
              "    </tr>\n",
              "    <tr>\n",
              "      <th>13218</th>\n",
              "      <td>common_voice_es_18310110.mp3</td>\n",
              "      <td>1</td>\n",
              "      <td>1</td>\n",
              "      <td>4</td>\n",
              "      <td>6</td>\n",
              "      <td>0</td>\n",
              "    </tr>\n",
              "    <tr>\n",
              "      <th>13219</th>\n",
              "      <td>common_voice_es_18310112.mp3</td>\n",
              "      <td>1</td>\n",
              "      <td>1</td>\n",
              "      <td>5</td>\n",
              "      <td>3</td>\n",
              "      <td>0</td>\n",
              "    </tr>\n",
              "  </tbody>\n",
              "</table>\n",
              "<p>402 rows × 6 columns</p>\n",
              "</div>"
            ],
            "text/plain": [
              "                              Audio  I  E   A  O  U\n",
              "24     common_voice_es_19613838.mp3  2  6   5  6  3\n",
              "123    common_voice_es_19711369.mp3  3  2   4  1  1\n",
              "152    common_voice_es_19637716.mp3  4  2   5  7  3\n",
              "164    common_voice_es_18334123.mp3  1  0   3  3  0\n",
              "180    common_voice_es_19745846.mp3  3  8   1  8  4\n",
              "...                             ... .. ..  .. .. ..\n",
              "13148  common_voice_es_19656967.mp3  2  5   1  1  4\n",
              "13216  common_voice_es_18310103.mp3  3  2  11  3  3\n",
              "13217  common_voice_es_18310105.mp3  1  5   6  4  0\n",
              "13218  common_voice_es_18310110.mp3  1  1   4  6  0\n",
              "13219  common_voice_es_18310112.mp3  1  1   5  3  0\n",
              "\n",
              "[402 rows x 6 columns]"
            ]
          },
          "metadata": {
            "tags": []
          },
          "execution_count": 10
        }
      ]
    },
    {
      "cell_type": "code",
      "metadata": {
        "id": "HGS276-x8nil",
        "colab_type": "code",
        "colab": {
          "base_uri": "https://localhost:8080/",
          "height": 102
        },
        "outputId": "4a95a977-d81d-4cdc-9445-6a7ba477f65e"
      },
      "source": [
        "print('Total íes (i):', dfVocales['I'].sum())\n",
        "print('Total es (e):', dfVocales['E'].sum())\n",
        "print('Total aes (a):', dfVocales['A'].sum())\n",
        "print('Total oes (o):', dfVocales['O'].sum())\n",
        "print('Total úes (u):', dfVocales['U'].sum())"
      ],
      "execution_count": null,
      "outputs": [
        {
          "output_type": "stream",
          "text": [
            "Total íes (i): 1294\n",
            "Total es (e): 2442\n",
            "Total aes (a): 2290\n",
            "Total oes (o): 1727\n",
            "Total úes (u): 782\n"
          ],
          "name": "stdout"
        }
      ]
    },
    {
      "cell_type": "markdown",
      "metadata": {
        "id": "LienzqItdCw5",
        "colab_type": "text"
      },
      "source": [
        "##Vocal /i/"
      ]
    },
    {
      "cell_type": "code",
      "metadata": {
        "id": "sTlyG7bj_o9A",
        "colab_type": "code",
        "colab": {}
      },
      "source": [
        "#Resumen vocales i\n",
        "dfVocales['I'].value_counts()\n",
        "\n",
        "vocalI = dfVocales.nlargest(50, 'I', keep='all') #ordenar de mayor a menor, incluyendo los valores repetidos\n",
        "vocalI\n",
        "\n",
        "#list(vocalI['Audio'])\n",
        "#list(vocalI['I'])"
      ],
      "execution_count": null,
      "outputs": []
    },
    {
      "cell_type": "markdown",
      "metadata": {
        "id": "o9OVCSaCdL3p",
        "colab_type": "text"
      },
      "source": [
        "##Vocal /e/"
      ]
    },
    {
      "cell_type": "code",
      "metadata": {
        "id": "8ekKiS-2Fd_2",
        "colab_type": "code",
        "colab": {}
      },
      "source": [
        "#Resumen vocales e\n",
        "dfVocales['E'].value_counts()\n",
        "\n",
        "vocalE = dfVocales.nlargest(50, 'E', keep='all')\n",
        "vocalE\n",
        "\n",
        "#list(vocalE['Audio'])\n",
        "#list(vocalE['E'])"
      ],
      "execution_count": null,
      "outputs": []
    },
    {
      "cell_type": "markdown",
      "metadata": {
        "id": "dpyZaZELdPg5",
        "colab_type": "text"
      },
      "source": [
        "##Vocal /a/"
      ]
    },
    {
      "cell_type": "code",
      "metadata": {
        "id": "sRySnBgUFySr",
        "colab_type": "code",
        "colab": {}
      },
      "source": [
        "#Resumen vocales a\n",
        "dfVocales['A'].value_counts()\n",
        "\n",
        "vocalA = dfVocales.nlargest(50, 'A', keep='all')\n",
        "vocalA\n",
        "\n",
        "#list(vocalA['Audio'])\n",
        "#list(vocalA['A'])"
      ],
      "execution_count": null,
      "outputs": []
    },
    {
      "cell_type": "markdown",
      "metadata": {
        "id": "CriMPSvmdSDz",
        "colab_type": "text"
      },
      "source": [
        "##Vocal /o/"
      ]
    },
    {
      "cell_type": "code",
      "metadata": {
        "id": "8_h7wMclF6D3",
        "colab_type": "code",
        "colab": {}
      },
      "source": [
        "#Resumen vocales o\n",
        "dfVocales['O'].value_counts()\n",
        "\n",
        "vocalO = dfVocales.nlargest(50, 'O', keep='all')\n",
        "vocalO\n",
        "\n",
        "#list(vocalO['Audio'])\n",
        "#list(vocalO['O'])"
      ],
      "execution_count": null,
      "outputs": []
    },
    {
      "cell_type": "markdown",
      "metadata": {
        "id": "7RWc5mpadVPR",
        "colab_type": "text"
      },
      "source": [
        "##Vocal /u/"
      ]
    },
    {
      "cell_type": "code",
      "metadata": {
        "id": "Q_jRu6shF-87",
        "colab_type": "code",
        "colab": {}
      },
      "source": [
        "#Resumen vocales u\n",
        "dfVocales['U'].value_counts()\n",
        "\n",
        "vocalU = dfVocales.nlargest(70, 'U', keep='all')\n",
        "vocalU\n",
        "\n",
        "#list(vocalU['Audio'])\n",
        "#list(vocalU['U'])"
      ],
      "execution_count": null,
      "outputs": []
    },
    {
      "cell_type": "markdown",
      "metadata": {
        "id": "q9cww0ILdfe4",
        "colab_type": "text"
      },
      "source": [
        "#Miscelanea"
      ]
    },
    {
      "cell_type": "markdown",
      "metadata": {
        "id": "QhdsqRbu25bB",
        "colab_type": "text"
      },
      "source": [
        "https://towardsdatascience.com/top-3-pandas-functions-for-beginners-36373ee47075\n",
        "\n",
        "https://towardsdatascience.com/3-pandas-functions-you-should-be-using-more-often-696b41e8d7ca\n",
        "\n",
        "https://towardsdatascience.com/top-3-pandas-functions-you-dont-know-about-probably-5ae9e1c964c8"
      ]
    },
    {
      "cell_type": "markdown",
      "metadata": {
        "id": "70BdMu6u-2Ho",
        "colab_type": "text"
      },
      "source": [
        "Selección de frases con mayor número de vocales"
      ]
    },
    {
      "cell_type": "code",
      "metadata": {
        "id": "RWlR1KSMrIMC",
        "colab_type": "code",
        "colab": {}
      },
      "source": [
        "vocalU[:2] #selección de los dos primeros renglones"
      ],
      "execution_count": null,
      "outputs": []
    },
    {
      "cell_type": "code",
      "metadata": {
        "id": "OTLULXPGrajK",
        "colab_type": "code",
        "colab": {}
      },
      "source": [
        "vocalU[2:5] #selección de los dos primeros renglones"
      ],
      "execution_count": null,
      "outputs": []
    }
  ]
}